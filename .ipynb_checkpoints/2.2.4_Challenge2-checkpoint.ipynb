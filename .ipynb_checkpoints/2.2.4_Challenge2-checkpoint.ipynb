{
 "cells": [
  {
   "cell_type": "markdown",
   "metadata": {},
   "source": [
    "# 2.2.4 Thinkful Challenge - What Do You See?"
   ]
  },
  {
   "cell_type": "markdown",
   "metadata": {},
   "source": [
    "## Data Set: Google Trends\n",
    "The data set selected for this exercise is a `.csv` file downloaded from Google Trends. The data set compares the worldwide interest of the following two search terms over time:\n",
    "<ul>\n",
    "    <li>study data science</li>\n",
    "    <li>what is data science</li>\n",
    "</ul>\n",
    "\n",
    "Let's begin our analysis by loading all of the required python libraries and the `.csv` file:"
   ]
  },
  {
   "cell_type": "code",
   "execution_count": null,
   "metadata": {},
   "outputs": [],
   "source": [
    "import pandas as pd\n",
    "import numpy as np\n",
    "import matplotlib.pyplot as plt\n",
    "%matplotlib inline"
   ]
  },
  {
   "cell_type": "code",
   "execution_count": null,
   "metadata": {},
   "outputs": [],
   "source": [
    "df = pd.read_csv(\"2.2.4_multiTimeline2.csv\")\n",
    "df"
   ]
  },
  {
   "cell_type": "markdown",
   "metadata": {},
   "source": [
    "First we'll plot a line graph that shows how the two variables compare in interest over time:"
   ]
  },
  {
   "cell_type": "code",
   "execution_count": null,
   "metadata": {},
   "outputs": [],
   "source": [
    "plt.plot(df['study data science: (Worldwide)'], color='purple', label='study_ds')\n",
    "plt.plot(df['what is data science: (Worldwide)'], color='green', label='whatis_ds')\n",
    "plt.ylabel('# of Searches (,000)')\n",
    "plt.xlabel('Months')\n",
    "plt.title('Comparing Search Terms: Study Data Science to Learn Data Science')\n",
    "plt.legend()\n",
    "plt.show()"
   ]
  },
  {
   "cell_type": "markdown",
   "metadata": {},
   "source": [
    "It appears that the search term \"what is data science\" has greater interest month to month and it has been on the rise since back in January of 2004. Jan '04 is the first data point found in the `.csv` file. \n",
    "\n",
    "Interestingly it appears from the above graph that the search term \"study data science\" seems to be on a slight upward trend in the last while. It would be good to zoom in closer to 2017 data and see the interest in these two terms over the last year.  \n",
    "\n",
    "### Note for my mentor: \n",
    "I would have liked to change the x-label to show the months in the `MMM 'YY` format, but I couldn't figure out how to do it. The x-label is pointing to the index of the data frame, which is from 0 to 167. I couldn't figure out how to make the x-label point to column[1] of the data frame. I did find info on <a href=\"https://www.mathworks.com/help/matlab/creating_plots/change-tick-marks-and-tick-labels-of-graph-1.html?s_tid=gn_loc_drop\">xticks</a> and <a href=\"https://www.mathworks.com/help/matlab/ref/xtickformat.html\">xtickformat</a> that will be useful once I figure out how to make the x-label point to column[1] "
   ]
  },
  {
   "cell_type": "code",
   "execution_count": null,
   "metadata": {},
   "outputs": [],
   "source": [
    "df_2017 = df.iloc[156:, :]\n",
    "df_2017"
   ]
  },
  {
   "cell_type": "code",
   "execution_count": null,
   "metadata": {},
   "outputs": [],
   "source": [
    "plt.plot(df_2017['study data science: (Worldwide)'], color='purple', label='study_ds')\n",
    "plt.plot(df_2017['what is data science: (Worldwide)'], color='green', label='whatis_ds')\n",
    "plt.ylabel('# of Searches (,000)')\n",
    "plt.xlabel('Months')\n",
    "plt.title('Comparing Search Terms in 2017:\\nStudy Data Science to Learn Data Science')\n",
    "plt.legend()\n",
    "plt.show()"
   ]
  },
  {
   "cell_type": "markdown",
   "metadata": {},
   "source": [
    "As you can see from the graph above, when we zoom in, the search term \"study data science\" seems to be relatively flat (from about 15,000 searches at the start of the year, to about 20,000 searches at the end of the year). \n",
    "\n",
    "By comparison, the interest in search term \"what is data science\" appears to be much greater. Where \"what is data science\" seems to outsearch \"study data science\" by roughly 40,000 searches per month for most of the year. This is rather interesting because it supports the current concensus of a <a href=\"https://www.business.com/articles/big-data-big-problem-coping-with-shortage-of-talent-in-data-analysis/\">data science talent shortage.</a> \n",
    "\n",
    "Next let's take a look at a scatter plot of our total data set (not just the 2017 slice) to see what relationship they have to one another, if any:"
   ]
  },
  {
   "cell_type": "code",
   "execution_count": null,
   "metadata": {},
   "outputs": [],
   "source": [
    "plt.scatter(x=df['study data science: (Worldwide)'], y=df['what is data science: (Worldwide)'])\n",
    "plt.xlabel('Search Term: Study Data Science')\n",
    "plt.ylabel('Search Term: What Is Data Science')\n",
    "plt.show()"
   ]
  },
  {
   "cell_type": "markdown",
   "metadata": {},
   "source": [
    "It seems that these two search terms have a relationship to one another, let's take a look at how correlated these two terms are:"
   ]
  },
  {
   "cell_type": "code",
   "execution_count": null,
   "metadata": {},
   "outputs": [],
   "source": [
    "df.corr()"
   ]
  },
  {
   "cell_type": "markdown",
   "metadata": {},
   "source": [
    "From the above correlation summary, it seems that they are fairly highly related to one another with a 0.76 correlation. \n",
    "\n",
    "Next, let's take a look at a histogram subplot of the two search terms:"
   ]
  },
  {
   "cell_type": "code",
   "execution_count": null,
   "metadata": {},
   "outputs": [],
   "source": [
    "plt.figure(figsize=(20, 5))\n",
    "\n",
    "plt.subplot(1, 2, 1)\n",
    "plt.hist(df['study data science: (Worldwide)'], bins=40, color='purple')\n",
    "plt.ylabel('Frequency')\n",
    "plt.xlabel('Number of Monthly Searches')\n",
    "plt.title('Search Term: Study Data Science')\n",
    "\n",
    "plt.subplot(1, 2, 2)\n",
    "plt.hist(df['what is data science: (Worldwide)'], bins=40, color='green')\n",
    "plt.ylabel('Frequency')\n",
    "plt.xlabel('Number of Monthly Searches')\n",
    "plt.title('Search Term: What Is Data Science')\n",
    "plt.show()"
   ]
  },
  {
   "cell_type": "markdown",
   "metadata": {},
   "source": [
    "What the above histograms reveal is that there are a large number of months where these two search terms were not searched at all (this is the greatest frequency of data in both histograms, at-or-near the 0-mark on the x-axis).\n",
    "\n",
    "As you can see from the above two graphs, scale of the x-axis and y-axis aren't quite compatible. For this reason, we will normalize the histograms to increase the compatibility of the scales, making it easier to draw conclusions from the data. "
   ]
  },
  {
   "cell_type": "code",
   "execution_count": null,
   "metadata": {},
   "outputs": [],
   "source": [
    "plt.hist(df['study data science: (Worldwide)'], normed=True, color='purple', bins=np.arange(-10, 40), alpha=.5, label='study_ds')\n",
    "plt.hist(df['what is data science: (Worldwide)'], normed=True, color='green', bins=np.arange(-10, 40), alpha=.5, label='whatis_ds')\n",
    "plt.title('Normed Histograms')\n",
    "plt.xlabel(\"Searches per Month, '000\")\n",
    "plt.legend()\n",
    "plt.show()"
   ]
  },
  {
   "cell_type": "markdown",
   "metadata": {},
   "source": [
    "It's not easy to draw a clear conclusion from the above, but here a few observations:\n",
    "<ol>\n",
    "    <li>The greatest frequency of search hovers around 0 searches per month for both search terms</li>\n",
    "    <li>The term \"study data science\" has only surpased 20,000 searches very infrequently</li>\n",
    "    <li>The term \"study data science\" has less than 10,000 searches per month quite frequently</li>\n",
    "    <li>The term \"what is data science\" has searches per month ranging somewhere between 3,000 and 38,000 per month.</li>\n",
    "    <li>The density of the term \"what is data science\" is greater than \"study data science\"</li>\n",
    "</ol>\n",
    "\n",
    "For our last graph, let's take a look at a box plot for each search term to see what it reveals:"
   ]
  },
  {
   "cell_type": "code",
   "execution_count": null,
   "metadata": {
    "scrolled": true
   },
   "outputs": [],
   "source": [
    "plt.boxplot(df['study data science: (Worldwide)'])\n",
    "plt.show()"
   ]
  },
  {
   "cell_type": "code",
   "execution_count": null,
   "metadata": {
    "scrolled": true
   },
   "outputs": [],
   "source": [
    "plt.boxplot(df['what is data science: (Worldwide)'])\n",
    "plt.show()"
   ]
  },
  {
   "cell_type": "markdown",
   "metadata": {},
   "source": [
    "From the above two box plots it appears that the majority of the data tends towards 0 searches per month. The median for \"study data science\" is less than 5 while the median for \"what is data science\" is around 15. The interquartile range for both terms tends towards the bottom half of the plot which indicates that there are some large outliers skewing the data set. \n",
    "\n",
    "### Note to My Mentor\n",
    "It would be good to know if you can \"norm\" box plots like you can with histograms. I'm running out of time and need to submit this assignment. I will look into this before we meet next to see if I can find anything. "
   ]
  },
  {
   "cell_type": "markdown",
   "metadata": {},
   "source": [
    "# Conclusion\n",
    "Mostly, what the normalized histogram (along with all the other plots) shows is that these two terms are related to one another. They are fairly highly correlated. And the question \"what is data science\" is on more minds of people worldwide than  the term \"study data science\".\n",
    "\n",
    "For someone like me who is stuyding data science, and who would like to work in the field, this could be very good news!"
   ]
  }
 ],
 "metadata": {
  "kernelspec": {
   "display_name": "Python 3",
   "language": "python",
   "name": "python3"
  },
  "language_info": {
   "codemirror_mode": {
    "name": "ipython",
    "version": 3
   },
   "file_extension": ".py",
   "mimetype": "text/x-python",
   "name": "python",
   "nbconvert_exporter": "python",
   "pygments_lexer": "ipython3",
   "version": "3.6.3"
  }
 },
 "nbformat": 4,
 "nbformat_minor": 2
}
